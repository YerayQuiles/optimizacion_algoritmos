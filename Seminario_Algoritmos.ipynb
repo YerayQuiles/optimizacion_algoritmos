{
  "cells": [
    {
      "cell_type": "markdown",
      "metadata": {
        "id": "hVbXYX-RfPWh"
      },
      "source": [
        "# Algoritmos de optimización - Seminario<br>\n",
        "<b>Nombre y Apellidos: </b> Yeray Quiles Ferrández <br>\n",
        "> 1. Organizar sesiones de doblaje <br>\n",
        "\n",
        "GitHub: https://github.com/YerayQuiles/optimizacion_algoritmos <br>\n",
        "Colab:\n"
      ]
    },
    {
      "cell_type": "markdown",
      "metadata": {},
      "source": [
        "## Enunciado"
      ]
    },
    {
      "cell_type": "markdown",
      "metadata": {},
      "source": [
        "\n",
        "<b>Descripción del problema: </b><br>\n",
        "Se precisa coordinar el doblaje de una película. Los actores del doblaje deben coincidir en las\n",
        "tomas en las que sus personajes aparecen juntos en las diferentes tomas. Los actores de\n",
        "doblaje cobran todos la misma cantidad por cada día que deben desplazarse hasta el estudio de\n",
        "grabación independientemente del número de tomas que se graben. No es posible grabar más\n",
        "de 6 tomas por día. El objetivo es planificar las sesiones por día de manera que el gasto por los\n",
        "servicios de los actores de doblaje sea el menor posible. Los datos son:\n",
        "- <b>Número de actores: </b> `10`\n",
        "- <b> Número de tomas: </b> `30`\n",
        "- <b>Actores/Tomas:</b> https://docs.google.com/spreadsheets/d/1Ipn6IrbQP4ax8zOnivdBIw2lN0JISkJG4fXndYd27U0/edit?gid=0#gid=0\n",
        "         "
      ]
    },
    {
      "cell_type": "markdown",
      "metadata": {},
      "source": [
        "#### Obtener los datos de la tabla"
      ]
    },
    {
      "cell_type": "code",
      "execution_count": 6,
      "metadata": {},
      "outputs": [],
      "source": [
        "import pandas as pd\n",
        "\n",
        "sheet_id = \"1Ipn6IrbQP4ax8zOnivdBIw2lN0JISkJG4fXndYd27U0\"\n",
        "url = f\"https://docs.google.com/spreadsheets/d/{sheet_id}/export?format=csv\"\n",
        "\n",
        "df = pd.read_csv(url)\n",
        "df_numeric = df[pd.to_numeric(df.iloc[:, 0], errors='coerce').notna()]\n",
        "\n",
        "tomas_actores = {}\n",
        "for _, row in df_numeric.iterrows():\n",
        "    toma = int(row.iloc[0])\n",
        "    actores = {i for i in range(1, 11) if row.iloc[i] == 1}\n",
        "    tomas_actores[toma] = actores"
      ]
    },
    {
      "cell_type": "markdown",
      "metadata": {},
      "source": [
        "En la tabla: \n",
        "- `1` el actor participa en la toma\n",
        "- `0` el actor NO participa en la toma     "
      ]
    },
    {
      "cell_type": "markdown",
      "metadata": {},
      "source": [
        "\n",
        "| Toma | Actor 1 | Actor 2 | Actor 3 | Actor 4 | Actor 5 | Actor 6 | Actor 7 | Actor 8 | Actor 9 | Actor 10 | Total |\n",
        "|------|---------|---------|---------|---------|---------|---------|---------|---------|---------|----------|-------|\n",
        "| 1 | 1 | 1 | 1 | 1 | 1 | 0 | 0 | 0 | 0 | 0 | 5 |\n",
        "| 2 | 0 | 0 | 1 | 1 | 1 | 0 | 0 | 0 | 0 | 0 | 3 |\n",
        "| 3 | 0 | 1 | 0 | 0 | 1 | 0 | 1 | 0 | 0 | 0 | 3 |\n",
        "| 4 | 1 | 1 | 0 | 0 | 0 | 0 | 1 | 1 | 0 | 0 | 4 |\n",
        "| 5 | 0 | 1 | 0 | 1 | 0 | 0 | 0 | 1 | 0 | 0 | 3 |\n",
        "| 6 | 1 | 1 | 0 | 1 | 1 | 0 | 0 | 0 | 0 | 0 | 4 |\n",
        "| 7 | 1 | 1 | 0 | 1 | 1 | 0 | 0 | 0 | 0 | 0 | 4 |\n",
        "| 8 | 1 | 1 | 0 | 0 | 0 | 1 | 0 | 0 | 0 | 0 | 3 |\n",
        "| 9 | 1 | 1 | 0 | 1 | 0 | 0 | 0 | 0 | 0 | 0 | 3 |\n",
        "| 10 | 1 | 1 | 0 | 0 | 0 | 1 | 0 | 0 | 1 | 0 | 4 |\n",
        "| 11 | 1 | 1 | 1 | 0 | 1 | 0 | 0 | 1 | 0 | 0 | 5 |\n",
        "| 12 | 1 | 1 | 1 | 1 | 0 | 1 | 0 | 0 | 0 | 0 | 5 |\n",
        "| 13 | 1 | 0 | 0 | 1 | 1 | 0 | 0 | 0 | 0 | 0 | 3 |\n",
        "| 14 | 1 | 0 | 1 | 0 | 0 | 1 | 0 | 0 | 0 | 0 | 3 |\n",
        "| 15 | 1 | 1 | 0 | 0 | 0 | 0 | 1 | 0 | 0 | 0 | 3 |\n",
        "| 16 | 0 | 0 | 0 | 1 | 0 | 0 | 0 | 0 | 0 | 1 | 2 |\n",
        "| 17 | 1 | 0 | 1 | 0 | 0 | 0 | 0 | 0 | 0 | 0 | 2 |\n",
        "| 18 | 0 | 0 | 1 | 0 | 0 | 1 | 0 | 0 | 0 | 0 | 2 |\n",
        "| 19 | 1 | 0 | 1 | 0 | 0 | 0 | 0 | 0 | 0 | 0 | 2 |\n",
        "| 20 | 1 | 0 | 1 | 1 | 1 | 0 | 0 | 0 | 0 | 0 | 4 |\n",
        "| 21 | 0 | 0 | 0 | 0 | 0 | 1 | 0 | 1 | 0 | 0 | 2 |\n",
        "| 22 | 1 | 1 | 1 | 1 | 0 | 0 | 0 | 0 | 0 | 0 | 4 |\n",
        "| 23 | 1 | 0 | 1 | 0 | 0 | 0 | 0 | 0 | 0 | 0 | 2 |\n",
        "| 24 | 0 | 0 | 1 | 0 | 0 | 1 | 0 | 0 | 0 | 0 | 2 |\n",
        "| 25 | 1 | 1 | 0 | 1 | 0 | 0 | 0 | 0 | 0 | 1 | 4 |\n",
        "| 26 | 1 | 0 | 1 | 0 | 1 | 0 | 0 | 0 | 1 | 0 | 4 |\n",
        "| 27 | 0 | 0 | 0 | 1 | 1 | 0 | 0 | 0 | 0 | 0 | 2 |\n",
        "| 28 | 1 | 0 | 0 | 1 | 0 | 0 | 0 | 0 | 0 | 0 | 2 |\n",
        "| 29 | 1 | 0 | 0 | 0 | 1 | 1 | 0 | 0 | 0 | 0 | 3 |\n",
        "| 30 | 1 | 0 | 0 | 1 | 0 | 0 | 0 | 0 | 0 | 0 | 2 |\n",
        "|------|---------|---------|---------|---------|---------|---------|---------|---------|---------|----------|-------|\n",
        "| **TOTAL** | **22** | **14** | **13** | **15** | **11** | **8** | **3** | **4** | **2** | **2** | **94** |\n"
      ]
    },
    {
      "cell_type": "markdown",
      "metadata": {},
      "source": [
        "## ¿Cuántas posibilidades hay sin tener en cuenta las restricciones? \n"
      ]
    },
    {
      "cell_type": "markdown",
      "metadata": {},
      "source": [
        "\n",
        "El objetivo sería organizar el doblaje de una película con un total de 30 tomas y 10 actores. Para calcular el número de posibilidades sin restricciones, es necesario estudiar el orden de las tomas a grabar y la distribución de las sesiones de grabación a lo largo de los días.\n",
        "\n",
        "---\n",
        "\n",
        "### Opción 1: n! (Permutaciones)\n",
        "\n",
        "Si únicamente consideramos el orden de las tomas:\n",
        "- Tendríamos n! = 30! permutaciones posibles.\n",
        "- Se asume que el orden de grabación es lo único relevante para la planificación de las sesiones.\n",
        "- No se considera cómo se distribuyen las tomas en múltiples días.\n",
        "- Sería válido si todas las tomas se graban en un solo día.\n",
        "\n",
        "**Resultado:** 265,252,859,812,191,058,636,308,480,000,000 posibilidades\n",
        "\n",
        "Esta opción no es suficiente para modelar el problema, ya que la distribución de los díases es un factor esencial para la planificación.\n",
        "\n"
      ]
    },
    {
      "cell_type": "code",
      "execution_count": 42,
      "metadata": {},
      "outputs": [
        {
          "name": "stdout",
          "output_type": "stream",
          "text": [
            "Opción 1: n! = 265,252,859,812,191,058,636,308,480,000,000\n"
          ]
        }
      ],
      "source": [
        "import math\n",
        "\n",
        "n = 30  # Parámetros del problema\n",
        "\n",
        "# n! \n",
        "solo_factorial = math.factorial(n)\n",
        "\n",
        "print(f'Opción 1: n! = {solo_factorial:,}')"
      ]
    },
    {
      "cell_type": "markdown",
      "metadata": {},
      "source": [
        "\n",
        "### Opción 2: n! × 2^(n-1) (Secuenciación + Distribución)\n",
        "\n",
        "Si asumimos que el número total de ordenaciones posibles es relevante, entonces se trata de un problema de permutaciones sin repetición.\n",
        "\n",
        "#### Distribución de las sesiones de grabación\n",
        "- En cada sesión de grabación de un día, se pueden grabar un número distinto de tomas.\n",
        "- Las grabaciones son únicas, es decir, no pueden repetirse. Por tanto, una vez grabada una toma se eliminará del conjunto de tomas a grabar en las siguientes sesiones.\n",
        "- Sea d∈{0,…,n−1} el número de particiones en que se pueden distribuir las sesiones de grabación de las tomas. Por ejemplo:\n",
        "  - Si se graban todas las tomas en un solo día: **d=0** (sin particiones), si las tomas se graban en dos sesiones: **d=1** (una partición), etc\n",
        "- El número de posibles ordenaciones de la partición d=0 sería C(n-1,0), el de la partición d=1 sería C(n-1,1), y así hasta el último número combinatorio.\n",
        "- Por tanto, el número total de posibles particiones será la suma de todas las posibles distribuciones: **∑(j=0 hasta n-1) C(n-1,j)**\n",
        "\n",
        "#### Número total de posibilidades sin restricción\n",
        "\n",
        "El número total de posibles ordenaciones de las tomas a lo largo de los días se obtiene calculando el producto del orden de las tomas por la distribución de las sesiones de grabación, que por identidad binomial es:\n",
        "\n",
        "**Núm. posibilidades = n! × ∑(j=0 hasta n-1) C(n-1,j) = n! × 2^(n-1)**\n"
      ]
    },
    {
      "cell_type": "code",
      "execution_count": 43,
      "metadata": {},
      "outputs": [
        {
          "name": "stdout",
          "output_type": "stream",
          "text": [
            "Opción 2: n! × 2^(n-1) = 142,406,544,757,979,162,368,320,409,970,933,760,000,000\n",
            "Factor de diferencia: 536,870,912.0\n"
          ]
        }
      ],
      "source": [
        "import math \n",
        "\n",
        "n = 30  # Parámetros del problema\n",
        "\n",
        "# n! × 2^(n-1) \n",
        "orden_tomas = math.factorial(n)\n",
        "distribucion_dias = 2**(n-1)\n",
        "total_posibilidades = orden_tomas * distribucion_dias\n",
        "\n",
        "# Resultados\n",
        "print(f'Opción 2: n! × 2^(n-1) = {total_posibilidades:,}')\n",
        "print(f'Factor de diferencia: {total_posibilidades/solo_factorial:,}')"
      ]
    },
    {
      "cell_type": "markdown",
      "metadata": {},
      "source": [
        "\n",
        "### Comparación de Enfoques\n",
        "\n",
        "| Aspecto | n! | n! × 2^(n-1) |\n",
        "|---------|---------------|-------------------------|\n",
        "| **Considera orden de tomas** | Sí | Sí |\n",
        "| **Considera distribución en días** | No | Sí |\n",
        "| **Realismo para doblaje** | Limitado | Completo |\n",
        "| **Resultado para n=30** | ~2.65 × 10^32 | ~1.42 × 10^41 |\n",
        "\n",
        "### Resultados\n",
        "\n",
        "| Opción | Fórmula | Resultado |\n",
        "|--------|---------|-----------|\n",
        "| **Opción 1 (descartada)** | n! | 265,252,859,812,191,058,636,308,480,000,000 |\n",
        "| **Opción 2 (correcta)** | n! × 2^(n-1) | 142,406,544,757,979,162,368,320,409,970,933,760,000,000 |\n",
        "\n",
        "La opción correcta considera tanto el orden de grabación como la distribución temporal, siendo 536,870,912 veces mayor que la opción que solo considera el orden.\n",
        "\n",
        "**Respuesta final:** 142,406,544,757,979,162,368,320,409,970,933,760,000,000 posibilidades"
      ]
    },
    {
      "cell_type": "markdown",
      "metadata": {},
      "source": [
        "## ¿Cuántas posibilidades hay teniendo en cuenta todas las restricciones?\n"
      ]
    },
    {
      "cell_type": "markdown",
      "metadata": {},
      "source": [
        "\n",
        "El objetivo sería organizar el doblaje de una película con un total de 30 tomas y 10 actores, con un máximo de 6 tomal por día y el objetivo de minimizar el coste total. Para calcular el número de posibilidades con restricciones, es necesario estudiar el orden de las tomas a grabar y la distribución de las sesiones de grabación a lo largo de los días.\n",
        "\n",
        "---\n",
        "\n",
        "### Opción 1: Combinaciones con orden de días relevante\n",
        "\n",
        "Si consideramos que el orden cronológico de los días es importante:\n",
        "\n",
        "- No hay restricciones sobre cómo deben ser grabadas las tomas dentro de la sesión, se asume que el orden de grabación de las tomas dentro de cada día es indiferente.\n",
        "- El orden de los días sí se considera relevante.\n",
        "\n",
        "#### Distribución de los días de grabación\n",
        "- El mínimo número de días necesarios es **r = ⌈n/k⌉ = ⌈30/6⌉ = 5** días.\n",
        "- Para optimizar costes, asumimos sesiones de **k = 6** tomas cada día.\n",
        "- Las grabaciones son únicas,una vez grabada se elimina del conjunto de tomas disponibles.\n",
        "- Para el día **j+1**, tenemos **C(n-k·j, k)** posibilidades, donde **j ∈ {0,1,2,3,4}**.\n",
        "\n",
        "#### Número total de posibilidades (orden relevante)\n",
        "\n",
        "**Núm. posibilidades = ∏[j=0 hasta 4] C(30-6·j, 6)**\n",
        "\n",
        "**Resultado:** 1,370,874,167,589,326,400 posibilidades\n",
        "\n",
        "\n",
        "### Opción 2: Combinaciones con orden de días irrelevante\n",
        "\n",
        "- El orden de grabación de las tomas dentro de cada día es indiferente.\n",
        "- El orden de los días tampoco es relevante.\n",
        "\n",
        "#### Distribución de las sesiones de grabación\n",
        "- Mantenemos la configuración de 5 días con 6 tomas cada uno.\n",
        "- Las configuraciones que solo difieren en el orden de los días se consideran equivalentes.\n",
        "\n",
        "#### Corrección por equivalencia de días\n",
        "\n",
        "Dado que el orden de los días no importa, debemos dividir el resultado de la Opción 1 por el número de permutaciones de los 5 días:\n",
        "\n",
        "**Núm. posibilidades = [∏[j=0 hasta 4] C(30-6·j, 6)] ÷ 5!**\n"
      ]
    },
    {
      "cell_type": "code",
      "execution_count": 44,
      "metadata": {},
      "outputs": [
        {
          "name": "stdout",
          "output_type": "stream",
          "text": [
            "C(30, 6) = 593,775\n",
            "C(24, 6) = 134,596\n",
            "C(18, 6) = 18,564\n",
            "C(12, 6) = 924\n",
            "C(6, 6) = 1\n",
            "Con orden: 1,370,874,167,589,326,400\n",
            "Factorial 5!: 120\n",
            "Sin orden: 11,423,951,396,577,720\n"
          ]
        }
      ],
      "source": [
        "import math\n",
        "\n",
        "n = 30\n",
        "k = 6\n",
        "num_dias = n // k  # = 5 días\n",
        "\n",
        "# Cálculo del producto de combinaciones\n",
        "num_posibilidades_con_orden = 1\n",
        "for j in range(0, num_dias):\n",
        "    combinacion = math.comb(n - k*j, k)\n",
        "    num_posibilidades_con_orden *= combinacion\n",
        "    print(f\"C({n - k*j}, {k}) = {combinacion:,}\")\n",
        "\n",
        "# Corrección por orden irrelevante de días\n",
        "factorial_dias = math.factorial(num_dias)\n",
        "num_posibilidades_sin_orden = num_posibilidades_con_orden // factorial_dias\n",
        "\n",
        "print(f\"Con orden: {num_posibilidades_con_orden:,}\")\n",
        "print(f\"Factorial 5!: {factorial_dias}\")\n",
        "print(f\"Sin orden: {num_posibilidades_sin_orden:,}\")\n"
      ]
    },
    {
      "cell_type": "markdown",
      "metadata": {},
      "source": [
        "\n",
        "### Comparación de Enfoques\n",
        "\n",
        "| Aspecto | Opción 1 (Orden relevante) | Opción 2 (Orden irrelevante) |\n",
        "|---------|----------------------------|-------------------------------|\n",
        "| **Considera restricción k≤6** | Sí | Sí |\n",
        "| **Considera objetivo de costes** | Parcialmente | Completamente |\n",
        "| **Distingue días equivalentes** | Sí  | No  |\n",
        "| **Realismo para doblaje** | Limitado | Completo |\n",
        "| **Resultado para n=30, k=6** | ~1.37 × 10¹⁵ | ~1.14 × 10¹³ |\n",
        "\n",
        "\n",
        "### Resultados\n",
        "\n",
        "| Opción | Fórmula | Resultado |\n",
        "|--------|---------|-----------|\n",
        "| **Opción 1** | ∏[j=0 hasta 4] C(30-6·j, 6) | 1,370,874,167,589,326,400 |\n",
        "| **Opción 2** | [∏[j=0 hasta 4] C(30-6·j, 6)] ÷ 5! | 11,423,951,396,577,720 |\n",
        "\n",
        "La opción correcta evita el sobreconteo de configuraciones equivalentes, siendo 120 (5!) veces menor que la opción que distingue incorrectamente el orden de días.\n",
        "\n",
        "\n",
        "**Respuesta final:** 11,423,951,396,577,720 posibilidades"
      ]
    },
    {
      "cell_type": "markdown",
      "metadata": {
        "id": "dzynfVJahHoY"
      },
      "source": [
        "## ¿Cual es la estructura de datos que mejor se adapta al problema?\n",
        "\n",
        "### Primera aproximación para definir la estructura de los datos:\n",
        "\n",
        "Inicialmente se pensó en trabajar con la matriz de datos como un **array bidimensional de numpy** o un **dataframe de pandas** de manera que:\n",
        "* en las filas tuviese como índice el número de toma (1 a 30),\n",
        "* en las columnas tuviese como nombre el número de actor (1 a 10) y  \n",
        "\n",
        "La solución se presentaría como una lista de sublistas donde cada sublista estaría formada por un número de tomas (≤6 tomas) para una sesión específica y se presentaría tantas sublistas como sesiones de grabación se considerase. Por ejemplo:\n",
        "\n",
        "`[[1, 2, 3, 4, 5, 6], [7, 8, 9, 10, 11, 12], [13, 14, 15, 16, 17, 18], [19, 20, 21, 22, 23, 24], [25, 26, 27, 28, 29, 30]]`\n",
        "\n",
        "No obstante, al experimentar las primeras dificultades en los diferentes bucles de optimización y analizar el rendimiento de la primera aproximación propuesta, se tomó la decisión de considerar una estructura alternativa.\n",
        "\n",
        "### Estructura final de los datos:\n",
        "\n",
        "En base a la matriz descrita en el apartado anterior se llevó a cabo una transformación para montar una **estructura híbrida de diccionarios con conjuntos** donde:\n",
        "* cada clave es un número de toma (1 a 30) y\n",
        "* cada valor del diccionario es un **conjunto (set)** con los números de actores que participan en esa toma.\n",
        "\n",
        "Por ejemplo:\n",
        "```python\n",
        "{\n",
        "    1: {1, 2, 3, 4, 5},     # Toma 1: actores 1,2,3,4,5\n",
        "    2: {3, 4, 5},           # Toma 2: actores 3,4,5  \n",
        "    3: {2, 5, 7},           # Toma 3: actores 2,5,7\n",
        "    # ... hasta toma 30\n",
        "}\n",
        "```\n",
        "\n",
        "Esta estructura elimina completamente el almacenamiento de ceros y aprovecha las operaciones nativas de conjuntos de Python para uniones eficientes.\n",
        "\n",
        "La estructura final representa un equilibrio óptimo entre eficiencia computacional, simplicidad  y escalabilidad para el problema específico de coordinación de doblaje planteado, donde solo se almacenan las 94 participaciones reales vs 300 posiciones de la matriz."
      ]
    },
    {
      "cell_type": "code",
      "execution_count": 7,
      "metadata": {},
      "outputs": [
        {
          "data": {
            "text/plain": [
              "{1: {1, 2, 3, 4, 5},\n",
              " 2: {3, 4, 5},\n",
              " 3: {2, 5, 7},\n",
              " 4: {1, 2, 7, 8},\n",
              " 5: {2, 4, 8},\n",
              " 6: {1, 2, 4, 5},\n",
              " 7: {1, 2, 4, 5},\n",
              " 8: {1, 2, 6},\n",
              " 9: {1, 2, 4},\n",
              " 10: {1, 2, 6, 9},\n",
              " 11: {1, 2, 3, 5, 8},\n",
              " 12: {1, 2, 3, 4, 6},\n",
              " 13: {1, 4, 5},\n",
              " 14: {1, 3, 6},\n",
              " 15: {1, 2, 7},\n",
              " 16: {4, 10},\n",
              " 17: {1, 3},\n",
              " 18: {3, 6},\n",
              " 19: {1, 3},\n",
              " 20: {1, 3, 4, 5},\n",
              " 21: {6, 8},\n",
              " 22: {1, 2, 3, 4},\n",
              " 23: {1, 3},\n",
              " 24: {3, 6},\n",
              " 25: {1, 2, 4, 10},\n",
              " 26: {1, 3, 5, 9},\n",
              " 27: {4, 5},\n",
              " 28: {1, 4},\n",
              " 29: {1, 5, 6},\n",
              " 30: {1, 4}}"
            ]
          },
          "execution_count": 7,
          "metadata": {},
          "output_type": "execute_result"
        }
      ],
      "source": [
        "tomas_actores"
      ]
    },
    {
      "cell_type": "markdown",
      "metadata": {
        "id": "7Z9U2W7bi-XS"
      },
      "source": [
        "## ¿Cuál es la función objetivo?\n",
        "\n",
        "La función objetivo representa el nucleo del problema de optimización de coordinación de doblaje. Su diseño debe capturar la realidad económica del proceso: minimizar el coste total de producción expresado en días-actor, donde cada unidad representa el coste de un actor trabajando durante una sesión completa de grabación.\n",
        "\n",
        "---\n",
        "\n",
        "Los actores cobran una tarifa fija por día independientemente de cuántas tomas graben. Por lo que si un actor participa en una sola toma del día, cobrará el día completo igual que si participara en las seis tomas máximas permitidas. Esto determina que la función objetivo debe enfocarse en minimizar el número total de actores únicos que trabajan cada día, no el número de participaciones individuales.\n",
        "\n",
        "La función objetivo que se implementó, llamada `coste`, determina el coste total asociado a una solución propuesta para la programación de las sesiones de doblaje. La función calcula cuántos actores únicos participan en cada sesión y suma los costes de todas las sesiones para obtener el coste total de la configuración.\n",
        "\n",
        "### Cálculo de la función\n",
        "\n",
        "**1. Iteración por sesiones**: Para cada sesión de grabación en la configuración, se calcula independientemente su coste asociado.\n",
        "\n",
        "**2. Unión de actores por sesión**: Dentro de cada sesión, se identifican todos los actores únicos necesarios mediante la unión de los conjuntos de actores de cada toma. \n",
        "\n",
        "**3. Cálculo de coste marginal**: El coste de cada sesión se obtiene multiplicando el número de actores únicos por el salario diario. En el caso base, se asume salario_diario=1 para obtener directamente el número de días-actor.\n",
        "\n",
        "**4. Agregación final**: El coste total se calcula sumando los costes marginales de todas las sesiones.\n"
      ]
    },
    {
      "cell_type": "code",
      "execution_count": 46,
      "metadata": {},
      "outputs": [
        {
          "name": "stdout",
          "output_type": "stream",
          "text": [
            "RESUMEN DE CONFIGURACIÓN\n",
            "==============================\n",
            "Sesión 1: tomas [1, 2, 3, 4, 5, 6]\n",
            "         actores [1, 2, 3, 4, 5, 7, 8] → 7 días-actor\n",
            "Sesión 2: tomas [7, 8, 9, 10, 11, 12]\n",
            "         actores [1, 2, 3, 4, 5, 6, 8, 9] → 8 días-actor\n",
            "Sesión 3: tomas [13, 14, 15, 16, 17, 18]\n",
            "         actores [1, 2, 3, 4, 5, 6, 7, 10] → 8 días-actor\n",
            "Sesión 4: tomas [19, 20, 21, 22, 23, 24]\n",
            "         actores [1, 2, 3, 4, 5, 6, 8] → 7 días-actor\n",
            "Sesión 5: tomas [25, 26, 27, 28, 29, 30]\n",
            "         actores [1, 2, 3, 4, 5, 6, 9, 10] → 8 días-actor\n",
            "==============================\n",
            "TOTAL: 38 días-actor\n",
            "Coste secuencial: 38 días-actor\n",
            "\n"
          ]
        }
      ],
      "source": [
        "\n",
        "def coste(configuracion, tomas_actores, salario_diario=1):\n",
        "    \"\"\"\n",
        "    Calcula el coste total de una configuración de sesiones de doblaje.\n",
        "    \"\"\"\n",
        "    costes_por_sesion = []\n",
        "    \n",
        "    for sesion in configuracion:\n",
        "        actores_sesion = set()\n",
        "        for toma in sesion:\n",
        "            actores_sesion.update(tomas_actores[toma])\n",
        "        costes_por_sesion.append(len(actores_sesion) * salario_diario)\n",
        "    \n",
        "    coste_total = sum(costes_por_sesion)\n",
        "    return (coste_total, costes_por_sesion)\n",
        "\n",
        "def resumen_configuracion(configuracion, tomas_actores):\n",
        "    \"\"\"\n",
        "    Genera un resumen detallado de la configuración.\n",
        "    \"\"\"\n",
        "    coste_total, costes_por_sesion = coste(configuracion, tomas_actores)\n",
        "    \n",
        "    print(\"RESUMEN DE CONFIGURACIÓN\")\n",
        "    print(\"=\"*30)\n",
        "    \n",
        "    for i, (sesion, coste_dia) in enumerate(zip(configuracion, costes_por_sesion), 1):\n",
        "        actores_sesion = set()\n",
        "        for toma in sesion:\n",
        "            actores_sesion.update(tomas_actores[toma])\n",
        "        \n",
        "        print(f\"Sesión {i}: tomas {sesion}\")\n",
        "        print(f\"         actores {sorted(actores_sesion)} → {coste_dia} días-actor\")\n",
        "    \n",
        "    print(\"=\"*30)\n",
        "    print(f\"TOTAL: {coste_total} días-actor\")\n",
        "    \n",
        "    return coste_total\n",
        "\n",
        "# EJEMPLO\n",
        "config_secuencial = [\n",
        "    [1, 2, 3, 4, 5, 6],       # Día 1\n",
        "    [7, 8, 9, 10, 11, 12],    # Día 2  \n",
        "    [13, 14, 15, 16, 17, 18], # Día 3\n",
        "    [19, 20, 21, 22, 23, 24], # Día 4\n",
        "    [25, 26, 27, 28, 29, 30]  # Día 5\n",
        "]\n",
        "\n",
        "coste_seq = resumen_configuracion(config_secuencial, tomas_actores)\n",
        "print(f\"Coste secuencial: {coste_seq} días-actor\\n\")"
      ]
    },
    {
      "cell_type": "markdown",
      "metadata": {},
      "source": [
        "Esta función objetivo proporciona la métrica necesaria para evaluar cualquier configuración propuesta y será fundamental para implementar algoritmos que comparen las posibles configuraciones buscando minimizar el coste total."
      ]
    },
    {
      "cell_type": "markdown",
      "metadata": {},
      "source": [
        "## ¿Es un problema de maximización o minimización?\n",
        "\n",
        "Este caso es un problema de minimización. El objetivo consiste en encontrar la configuración de sesiones de doblaje que minimice el coste total expresado en días-actor.\n",
        "El enunciado pide que se busque planificar las sesiones por día de manera que el gasto por los servicios de los actores de doblaje sea el menor posible, por tanto estamos ante minimización de costes.\n",
        "\n",
        "\n",
        "### Diferenciación con problemas de maximización\n",
        "\n",
        "Por el contrario, si fuera un problema de maximización, estariamos hablando de:\n",
        "- Maximizar la utilización de actores por sesión\n",
        "- Maximizar el número de tomas por sesión\n",
        "- Maximizar la eficiencia temporal del proceso\n",
        "\n",
        "\n",
        "### Verificación \n",
        "\n",
        "La configuración secuencial da como resultado 38 días-actor. El objetivo del  algoritmo de optimización será encontrar configuraciones alternativas que produzcan un coste < 38 días-actor, confirmando que es un problema de minimización.\n",
        "\n"
      ]
    },
    {
      "cell_type": "markdown",
      "metadata": {},
      "source": [
        "## Diseña un algoritmo para resolver el problema por fuerza bruta\n",
        "\n"
      ]
    },
    {
      "cell_type": "markdown",
      "metadata": {},
      "source": [
        "\n",
        "El algoritmo de fuerza bruta consiste en evaluar todas las configuraciones posibles y seleccionar la que tenga menor coste.\n",
        "\n",
        "### Algoritmo conceptual\n",
        "\n",
        "\n",
        "1. Generar todas las formas de agrupar 30 tomas en sesiones de ≤6 tomas\n",
        "2. Para cada configuración, calcular su coste usando la función coste()  \n",
        "3. Retornar la configuración con menor coste\n",
        "\n",
        "\n",
        "### Implementación simplificada\n",
        "\n",
        "Debido a las **11,423,951,396,577,720 configuraciones posibles**, implementamos una versión que evalúa una muestra aleatoria:"
      ]
    },
    {
      "cell_type": "code",
      "execution_count": 47,
      "metadata": {},
      "outputs": [
        {
          "name": "stdout",
          "output_type": "stream",
          "text": [
            "Ejecutando fuerza bruta simplificado...\n",
            "Mejor coste encontrado: 34 días-actor\n",
            "Configuración: [[6, 30, 16, 19, 17, 25], [29, 13, 24, 28, 26, 7], [21, 14, 8, 18, 11, 4], [2, 3, 22, 1, 15, 23], [9, 27, 5, 12, 10, 20]]\n"
          ]
        }
      ],
      "source": [
        "import random\n",
        "\n",
        "def fuerza_bruta_simple(tomas_actores, num_evaluaciones=1000):\n",
        "    \"\"\"\n",
        "    Algoritmo de fuerza bruta. Evalúa una muestra de configuraciones aleatorias.\n",
        "    \"\"\"\n",
        "    mejor_configuracion = None\n",
        "    mejor_coste = float('inf')\n",
        "    \n",
        "    for _ in range(num_evaluaciones):\n",
        "        # Generar configuración aleatoria\n",
        "        configuracion = generar_configuracion_aleatoria()\n",
        "        \n",
        "        # Evaluar coste\n",
        "        coste_actual, _ = coste(configuracion, tomas_actores)\n",
        "        \n",
        "        # Si es mejor, guardarla\n",
        "        if coste_actual < mejor_coste:\n",
        "            mejor_coste = coste_actual\n",
        "            mejor_configuracion = configuracion\n",
        "    \n",
        "    return mejor_configuracion, mejor_coste\n",
        "\n",
        "def generar_configuracion_aleatoria():\n",
        "    \"\"\"Genera una configuración aleatoria válida\"\"\"\n",
        "    tomas = list(range(1, 31))  # Tomas 1-30\n",
        "    random.shuffle(tomas)\n",
        "    \n",
        "    configuracion = []\n",
        "    i = 0\n",
        "    while i < len(tomas):\n",
        "        # Tomar entre 1-6 tomas para esta sesión\n",
        "        num_tomas = min(6, len(tomas) - i)\n",
        "        sesion = tomas[i:i + num_tomas]\n",
        "        configuracion.append(sesion)\n",
        "        i += num_tomas\n",
        "    \n",
        "    return configuracion\n",
        "\n",
        "# Ejemplo de uso\n",
        "print(\"Ejecutando fuerza bruta simplificado...\")\n",
        "mejor_config, mejor_coste = fuerza_bruta_simple(tomas_actores, 1000)\n",
        "\n",
        "print(f\"Mejor coste encontrado: {mejor_coste} días-actor\")\n",
        "print(f\"Configuración: {mejor_config}\")"
      ]
    },
    {
      "cell_type": "markdown",
      "metadata": {},
      "source": [
        "#### Algoritmo Teórico  (No ejecutable)"
      ]
    },
    {
      "cell_type": "code",
      "execution_count": 48,
      "metadata": {},
      "outputs": [],
      "source": [
        "def fuerza_bruta_completo(tomas_actores):\n",
        "    \"\"\"\n",
        "    Evaluaría las 11,423,951,396,577,720\n",
        "    \"\"\"\n",
        "    mejor_coste = float('inf')\n",
        "    mejor_configuracion = None\n",
        "    \n",
        "    # Generar TODAS las configuraciones posibles\n",
        "    for configuracion in todas_las_configuraciones_posibles():\n",
        "        coste_actual, _ = coste(configuracion, tomas_actores)\n",
        "        \n",
        "        if coste_actual < mejor_coste:\n",
        "            mejor_coste = coste_actual\n",
        "            mejor_configuracion = configuracion\n",
        "    \n",
        "    return mejor_configuracion, mejor_coste"
      ]
    },
    {
      "cell_type": "markdown",
      "metadata": {},
      "source": [
        "El algoritmo es conceptualmente simple pero computacionalmente inviable, justificando la necesidad de algoritmos más eficientes."
      ]
    },
    {
      "cell_type": "markdown",
      "metadata": {
        "id": "tgrnsC2nkFa8"
      },
      "source": [
        "## Calcula la complejidad del algoritmo por fuerza bruta\n"
      ]
    },
    {
      "cell_type": "markdown",
      "metadata": {},
      "source": [
        "\n",
        "### Análisis del algoritmo teórico\n",
        "\n",
        "**Componentes del algoritmo:**\n",
        "\n",
        "1. **Generación de configuraciones**: Debe generar todas las formas posibles de particionar 30 tomas en sesiones de máximo 6 tomas.\n",
        "2. **Evaluación por configuración**: Calcular el coste mediante la función `coste()`.\n",
        "\n",
        "**Número total de configuraciones:**\n",
        "- Como calculamos anteriormente: **11,423,951,396,577,720** configuraciones.\n",
        "\n",
        "**Coste por evaluación:**\n",
        "- La función `coste()` itera por cada sesión y cada toma de la sesión.\n",
        "- Máximo 5 sesiones × máximo 6 tomas = 30 operaciones por configuración.\n",
        "\n",
        "**Complejidad total:**\n",
        "```\n",
        "T(n) = Número de configuraciones × Coste por evaluación\n",
        "T(n) = 11,423,951,396,577,720 × O(1)\n",
        "T(n) = O(11.4 × 10^13)\n",
        "```\n",
        "\n",
        "### Complejidad espacial\n",
        "\n",
        "- **Almacenamiento de la mejor solución**: O(30) para las tomas de la mejor configuración\n",
        "- **Datos de entrada**: O(30 × 10) para la matriz de participaciones  \n",
        "- **Variables auxiliares**: O(1)\n",
        "- **Total**: **O(30)** = **O(1)** - constante respecto al tamaño del problema"
      ]
    },
    {
      "cell_type": "markdown",
      "metadata": {},
      "source": [
        "### Tiempo de ejecución estimado"
      ]
    },
    {
      "cell_type": "code",
      "execution_count": 49,
      "metadata": {},
      "outputs": [
        {
          "name": "stdout",
          "output_type": "stream",
          "text": [
            "362.0 años\n"
          ]
        }
      ],
      "source": [
        "configuraciones_totales = 11423951396577720\n",
        "evaluaciones_por_segundo = 1000000  # 1 microsegundo por evaluación\n",
        "\n",
        "tiempo_segundos = configuraciones_totales / evaluaciones_por_segundo\n",
        "tiempo_anos = tiempo_segundos // (365 * 24 * 3600)\n",
        "\n",
        "print(tiempo_anos, \"años\")"
      ]
    },
    {
      "cell_type": "markdown",
      "metadata": {},
      "source": [
        "El algoritmo de fuerza bruta tiene:\n",
        "\n",
        "- **Complejidad temporal**: **O(11.4 × 10¹³)** \n",
        "- **Complejidad espacial**: **O(1)** \n",
        "- **Tiempo de ejecución**: **≈ 362 años**\n",
        "\n",
        "Esta complejidad justifica la necesidad de desarrollar **algoritmos heurísticos** que proporcionen soluciones de buena calidad en tiempo razonable, sacrificando la garantía de optimalidad por la viabilidad computacional."
      ]
    },
    {
      "cell_type": "markdown",
      "metadata": {
        "id": "txbrmLmskReM"
      },
      "source": [
        "## Diseña un algoritmo que mejore la complejidad del algortimo por fuerza bruta. Argumenta porque crees que mejora el algoritmo por fuerza bruta"
      ]
    },
    {
      "cell_type": "markdown",
      "metadata": {},
      "source": [
        "### Algoritmo Greedy\n",
        "\n",
        "Se ha diseñado un algoritmo greedy que resuelve el problema de coordinación de doblaje de manera eficiente, dando una alternativa práctica al algoritmo de fuerza bruta que es computacionalmente inviable.\n",
        "\n",
        "### Componentes del algoritmo\n",
        "\n",
        "#### 1. **Construcción Greedy**\n",
        "- **Selección inicial**: Comienza cada sesión con la toma que requiere menos actores.\n",
        "- **Completado de sesión**: Añade tomas que minimicen el número de actores nuevos necesarios.\n",
        "- **Heurística**: `actores_nuevos = actores_toma - actores_ya_presentes`.\n",
        "\n",
        "#### 2. **Mejora Local**\n",
        "- Intercambia tomas entre sesiones si reduce el coste total.\n",
        "- Continúa hasta que no se encuentren más mejoras.\n",
        "- Evita quedarse atrapado en la primera solución greedy.\n",
        "\n",
        "#### 3. **Múltiples Ejecuciones**\n",
        "- Ejecuta el proceso 3 veces .\n",
        "- Retorna la mejor solución encontrada.\n",
        "\n",
        "### Argumentos de mejora respecto a fuerza bruta\n",
        "\n",
        "#### **Viabilidad Computacional**\n",
        "\n",
        "| Algoritmo | Complejidad | Tiempo estimado | Estado |\n",
        "|-----------|-------------|-----------------|---------|\n",
        "| **Fuerza Bruta** | O(11.4 × 10¹³) | ~362 años | **INVIABLE** |\n",
        "| **Greedy** | O(n²) | <1 segundo | **VIABLE** |\n",
        "\n",
        "La mejora principal es que transforma un problema inviable en uno práctico\n",
        "\n",
        "\n",
        "#### **Escalabilidad**\n",
        "\n",
        "- **Fuerza bruta**: Crece exponencialmente → inviable para problemas mayores\n",
        "- **Greedy**: Crece polinómicamente → escalable a producciones más grandes\n",
        "\n",
        "### Comparación Realista\n",
        "\n",
        "- **Fuerza bruta**: Garantiza óptimo pero es imposible de ejecutar\n",
        "- **Greedy**: Obtiene buenas soluciones en tiempo razonable\n",
        "\n",
        "**Importante**: Como no podemos ejecutar fuerza bruta real, comparamos contra:\n",
        "\n",
        "1. **Configuración secuencial** (baseline de 38 días-actor)\n",
        "2. **Muestreo aleatorio** (para demostrar que greedy > azar)\n",
        "3. **Múltiples ejecuciones greedy** (para mostrar consistencia)\n",
        "\n"
      ]
    },
    {
      "cell_type": "code",
      "execution_count": 50,
      "metadata": {
        "id": "m1eyM21Vkabg"
      },
      "outputs": [
        {
          "name": "stdout",
          "output_type": "stream",
          "text": [
            "📊 RESULTADOS:\n",
            "Secuencial:     38 días-actor\n",
            "Greedy:         28 días-actor\n",
            "Aleatorio:      34 días-actor\n",
            "\n",
            "💡 Mejora Greedy: 26.3%\n",
            "\n",
            "📋 Configuración Greedy:\n",
            "   Día 1: [28, 2, 17, 19, 13, 27] → 4 actores\n",
            "   Día 2: [24, 12, 18, 14, 9, 23] → 5 actores\n",
            "   Día 3: [30, 4, 5, 16, 25, 15] → 6 actores\n",
            "   Día 4: [6, 1, 22, 7, 3, 20] → 6 actores\n",
            "   Día 5: [10, 29, 26, 11, 21, 8] → 7 actores\n"
          ]
        }
      ],
      "source": [
        "import random\n",
        "\n",
        "def coste(configuracion):\n",
        "    \"\"\"Calcula coste total: suma de actores únicos por sesión\"\"\"\n",
        "    total = 0\n",
        "    for sesion in configuracion:\n",
        "        actores_sesion = set()\n",
        "        for toma in sesion:\n",
        "            actores_sesion.update(tomas_actores[toma])\n",
        "        total += len(actores_sesion)\n",
        "    return total\n",
        "\n",
        "def algoritmo_greedy_mejorado():\n",
        "    \"\"\"Algoritmo greedy con mejora local\"\"\"\n",
        "    \n",
        "    def construir_solucion():\n",
        "        tomas_restantes = set(range(1, 31))\n",
        "        configuracion = []\n",
        "        \n",
        "        while tomas_restantes:\n",
        "            sesion = []\n",
        "            # Primera toma: la de menos actores\n",
        "            primera = min(tomas_restantes, key=lambda t: len(tomas_actores[t]))\n",
        "            sesion.append(primera)\n",
        "            tomas_restantes.remove(primera)\n",
        "            \n",
        "            # Completar sesión: añadir tomas que menos actores nuevos aporten\n",
        "            while len(sesion) < 6 and tomas_restantes:\n",
        "                actores_actuales = set()\n",
        "                for t in sesion:\n",
        "                    actores_actuales.update(tomas_actores[t])\n",
        "                \n",
        "                mejor = min(tomas_restantes, \n",
        "                          key=lambda t: len(tomas_actores[t] - actores_actuales))\n",
        "                sesion.append(mejor)\n",
        "                tomas_restantes.remove(mejor)\n",
        "            \n",
        "            configuracion.append(sesion)\n",
        "        return configuracion\n",
        "    \n",
        "    def mejora_local(config):\n",
        "        mejor_coste = coste(config)\n",
        "        mejora = True\n",
        "        \n",
        "        while mejora:\n",
        "            mejora = False\n",
        "            for i in range(len(config)):\n",
        "                for j in range(i + 1, len(config)):\n",
        "                    for toma_i in config[i]:\n",
        "                        for toma_j in config[j]:\n",
        "                            # Intercambiar\n",
        "                            config[i].remove(toma_i)\n",
        "                            config[i].append(toma_j)\n",
        "                            config[j].remove(toma_j)\n",
        "                            config[j].append(toma_i)\n",
        "                            \n",
        "                            if coste(config) < mejor_coste:\n",
        "                                mejor_coste = coste(config)\n",
        "                                mejora = True\n",
        "                                break\n",
        "                            else:\n",
        "                                # Revertir\n",
        "                                config[i].remove(toma_j)\n",
        "                                config[i].append(toma_i)\n",
        "                                config[j].remove(toma_i)\n",
        "                                config[j].append(toma_j)\n",
        "                        if mejora: break\n",
        "                    if mejora: break\n",
        "                if mejora: break\n",
        "        return config\n",
        "    \n",
        "    # Ejecutar 3 veces y quedarse con la mejor\n",
        "    mejor_coste = float('inf')\n",
        "    mejor_config = None\n",
        "    \n",
        "    for _ in range(3):\n",
        "        config = construir_solucion()\n",
        "        config = mejora_local(config)\n",
        "        coste_actual = coste(config)\n",
        "        \n",
        "        if coste_actual < mejor_coste:\n",
        "            mejor_coste = coste_actual\n",
        "            mejor_config = config\n",
        "    \n",
        "    return mejor_config, mejor_coste\n",
        "\n",
        "def muestreo_aleatorio(num_eval=1000):\n",
        "    \"\"\"Muestreo aleatorio para comparación\"\"\"\n",
        "    mejor_coste = float('inf')\n",
        "    mejor_config = None\n",
        "    \n",
        "    for _ in range(num_eval):\n",
        "        tomas = list(range(1, 31))\n",
        "        random.shuffle(tomas)\n",
        "        \n",
        "        config = []\n",
        "        for i in range(0, 30, 6):\n",
        "            config.append(tomas[i:i+6])\n",
        "        \n",
        "        coste_actual = coste(config)\n",
        "        if coste_actual < mejor_coste:\n",
        "            mejor_coste = coste_actual\n",
        "            mejor_config = config\n",
        "    \n",
        "    return mejor_config, mejor_coste\n",
        "\n",
        "# Comparación\n",
        "def comparar():\n",
        "    # Configuración secuencial\n",
        "    config_base = [[1,2,3,4,5,6], [7,8,9,10,11,12], [13,14,15,16,17,18], \n",
        "                   [19,20,21,22,23,24], [25,26,27,28,29,30]]\n",
        "    coste_base = coste(config_base)\n",
        "    \n",
        "    # Algoritmos\n",
        "    config_greedy, coste_greedy = algoritmo_greedy_mejorado()\n",
        "    config_aleatorio, coste_aleatorio = muestreo_aleatorio()\n",
        "    \n",
        "    print(\"📊 RESULTADOS:\")\n",
        "    print(f\"Secuencial:     {coste_base} días-actor\")\n",
        "    print(f\"Greedy:         {coste_greedy} días-actor\")\n",
        "    print(f\"Aleatorio:      {coste_aleatorio} días-actor\")\n",
        "    \n",
        "    mejora = ((coste_base - coste_greedy) / coste_base) * 100\n",
        "    print(f\"\\n💡 Mejora Greedy: {mejora:.1f}%\")\n",
        "    \n",
        "    print(f\"\\n📋 Configuración Greedy:\")\n",
        "    for i, sesion in enumerate(config_greedy, 1):\n",
        "        actores = set()\n",
        "        for toma in sesion:\n",
        "            actores.update(tomas_actores[toma])\n",
        "        print(f\"   Día {i}: {sesion} → {len(actores)} actores\")\n",
        "\n",
        "random.seed(42)\n",
        "comparar()"
      ]
    },
    {
      "cell_type": "markdown",
      "metadata": {},
      "source": [
        "### Resultados\n",
        "\n",
        "- **Coste**: 28 días-actor (mejora del 26.3%)\n",
        "- **Tiempo**: <1 segundo (vs 362 años teóricos)\n",
        "- **Superioridad sobre azar**: Mejor que muestreo aleatorio de 1000 configuraciones\n",
        "\n",
        "### Conclusión\n",
        "\n",
        "El algoritmo greedy no solo mejora la complejidad teórica del fuerza bruta, sino que hace posible resolver el problema en la práctica. La verdadera mejora no es solo de eficiencia, sino de viabilidad computacional: convierte un problema imposible de resolver en uno que se puede abordar efectivamente.\n"
      ]
    },
    {
      "cell_type": "markdown",
      "metadata": {
        "id": "eGDB4K6uk1iN"
      },
      "source": [
        "## Calcula la complejidad del algoritmo"
      ]
    },
    {
      "cell_type": "markdown",
      "metadata": {},
      "source": [
        "### Análisis de Complejidad del Algoritmo Greedy \n",
        "\n",
        "#### **Complejidad Temporal**\n",
        "\n",
        "El algoritmo tiene tres componentes principales:\n",
        "\n",
        "##### **1. Construcción Greedy**\n",
        "```python\n",
        "while tomas_restantes:                  # 5 sesiones máximo\n",
        "    primera = min(tomas_restantes)      # O(n)\n",
        "    while len(sesion) < 6:              # 6 tomas máximo\n",
        "        mejor = min(tomas_restantes)    # O(n)\n",
        "```\n",
        "**Complejidad**: O(5 × 6 × n) = **O(n)**\n",
        "\n",
        "##### **2. Mejora Local**\n",
        "```python\n",
        "for i in range(sesiones):           # 5 sesiones\n",
        "    for j in range(sesiones):       # 5 sesiones\n",
        "        for toma_i in sesion:       # 6 tomas\n",
        "            for toma_j in sesion:   # 6 tomas\n",
        "                coste(config)       # O(n) - recalcula coste completo\n",
        "```\n",
        "**Complejidad por iteración**: O(5 × 5 × 6 × 6 × n) = **O(n)**\n",
        "\n",
        "Pero se repite hasta convergencia (peor caso: n iteraciones)<br>\n",
        "**Complejidad final**: O(n × n) = **O(n²)**\n",
        "\n",
        "\n",
        "##### **3. Múltiples Ejecuciones**\n",
        "```python\n",
        "for _ in range(3):  # 3 intentos\n",
        "    # construcción + mejora local\n",
        "```\n",
        "**Complejidad**: O(3 × n2) = **O(n²)**\n",
        "\n",
        "#### **Complejidad Total**\n",
        "\n",
        "| Fase | Complejidad |\n",
        "|------|-------------|\n",
        "| Construcción | O(n) |\n",
        "| Mejora Local | O(n²) |\n",
        "| **Total** | **O(n²)** |\n",
        "\n",
        "#### **Complejidad Espacial**\n",
        "\n",
        "```python\n",
        "tomas_actores = {...}           # O(n) - datos entrada\n",
        "configuracion = [[...], ...]    # O(n) - solución\n",
        "variables_auxiliares            # O(1) - constante\n",
        "```\n",
        "**Complejidad espacial**: **O(n)**\n",
        "\n",
        "\n",
        "### Conclusión\n",
        "\n",
        "- **Complejidad temporal**: O(n²)\n",
        "- **Complejidad espacial**: O(n)"
      ]
    },
    {
      "cell_type": "markdown",
      "metadata": {
        "id": "3M6QjTsSkmYe"
      },
      "source": [
        "## Según el problema (y tenga sentido), diseña un juego de datos de entrada aleatorios"
      ]
    },
    {
      "cell_type": "markdown",
      "metadata": {},
      "source": [
        "Para validar el algoritmo greedy desarrollado, es necesario probar su comportamiento con diferentes configuraciones de datos. Para ello vamos a generar varios conjuntos de datos aleatorios que nos permitan evaluar el rendimiento del algoritmo.\n",
        "\n",
        "### Parámetros del generador\n",
        "\n",
        "El generador de datos aleatorios incorpora tiene parámetros para controlar las características del dataset:\n",
        "\n",
        "- **Densidad de participación**: Probabilidad base de que un actor participe en una toma.\n",
        "- **Distribución de tomas por actor**: Usando distribución de Poisson para simular patrones naturales.\n",
        "- **Semilla de reproducibilidad**: Para garantizar resultados consistentes en las evaluaciones."
      ]
    },
    {
      "cell_type": "code",
      "execution_count": 51,
      "metadata": {},
      "outputs": [
        {
          "name": "stdout",
          "output_type": "stream",
          "text": [
            "DATASETS GENERADOS:\n",
            "\n",
            "Pocos actores:\n",
            "  • Total participaciones: 70\n",
            "  • Promedio actores/toma: 2.3\n",
            "  • Min-Max actores/toma: 1-4\n",
            "\n",
            "Medios actores:\n",
            "  • Total participaciones: 89\n",
            "  • Promedio actores/toma: 3.0\n",
            "  • Min-Max actores/toma: 1-5\n",
            "\n",
            "Muchos actores:\n",
            "  • Total participaciones: 123\n",
            "  • Promedio actores/toma: 4.1\n",
            "  • Min-Max actores/toma: 1-7\n"
          ]
        }
      ],
      "source": [
        "import random\n",
        "\n",
        "def generar_datos_aleatorios(densidad=0.3, seed=42):\n",
        "    \"\"\"Genera dataset aleatorio con la misma estructura que los datos originales\"\"\"\n",
        "    random.seed(seed)\n",
        "    datos_aleatorios = {}\n",
        "    \n",
        "    for toma in range(1, 31):\n",
        "        # Número aleatorio de actores por toma (1-7 actores)\n",
        "        num_actores = random.randint(1, min(7, int(densidad * 10) + 2))\n",
        "        # Seleccionar actores aleatoriamente\n",
        "        actores = set(random.sample(range(1, 11), num_actores))\n",
        "        datos_aleatorios[toma] = actores\n",
        "    \n",
        "    return datos_aleatorios\n",
        "\n",
        "# Generar tres datasets con diferentes características\n",
        "datos_pocos_actores = generar_datos_aleatorios(densidad=0.2, seed=42)   # Pocas participaciones\n",
        "datos_medios_actores = generar_datos_aleatorios(densidad=0.3, seed=123) # Participaciones medias  \n",
        "datos_muchos_actores = generar_datos_aleatorios(densidad=0.5, seed=456) # Muchas participaciones\n",
        "\n",
        "print(\"DATASETS GENERADOS:\")\n",
        "\n",
        "datasets = [\n",
        "    (\"Pocos actores\", datos_pocos_actores),\n",
        "    (\"Medios actores\", datos_medios_actores), \n",
        "    (\"Muchos actores\", datos_muchos_actores)\n",
        "]\n",
        "\n",
        "for nombre, datos in datasets:\n",
        "    total_participaciones = sum(len(actores) for actores in datos.values())\n",
        "    actores_por_toma = [len(actores) for actores in datos.values()]\n",
        "    \n",
        "    print(f\"\\n{nombre}:\")\n",
        "    print(f\"  • Total participaciones: {total_participaciones}\")\n",
        "    print(f\"  • Promedio actores/toma: {sum(actores_por_toma)/len(actores_por_toma):.1f}\")\n",
        "    print(f\"  • Min-Max actores/toma: {min(actores_por_toma)}-{max(actores_por_toma)}\")"
      ]
    },
    {
      "cell_type": "markdown",
      "metadata": {},
      "source": [
        "Esta generación de datos aleatorios permite evaluar la generalización del algoritmo y su comportamiento ante diferentes niveles de complejidad del problema."
      ]
    },
    {
      "cell_type": "markdown",
      "metadata": {
        "id": "zy5ZROmjlGo1"
      },
      "source": [
        "## Aplica el algoritmo al juego de datos generado\n",
        "\n",
        "Una vez generados los datasets aleatorios, vamos aevaluar el rendimiento del algoritmo greedy en cada uno de ellos."
      ]
    },
    {
      "cell_type": "code",
      "execution_count": 52,
      "metadata": {
        "id": "Jkx8GeiYlUz1"
      },
      "outputs": [
        {
          "name": "stdout",
          "output_type": "stream",
          "text": [
            "Dataset         Secuencial  Greedy   Mejora  \n",
            "--------------------------------------------------\n",
            "Originales              38      28   26.3%\n",
            "Pocos                   40      29   27.5%\n",
            "Medios                  44      30   31.8%\n",
            "Muchos                  48      39   18.8%\n"
          ]
        }
      ],
      "source": [
        "def evaluar_dataset(datos_tomas_actores, nombre):\n",
        "    \"\"\"Evalúa el algoritmo greedy en un dataset y compara resultados\"\"\"\n",
        "    \n",
        "    # Guardar datos originales\n",
        "    global tomas_actores\n",
        "    tomas_actores_backup = tomas_actores.copy()\n",
        "    \n",
        "    # Cambiar temporalmente a los nuevos datos\n",
        "    tomas_actores = datos_tomas_actores\n",
        "    \n",
        "    try:\n",
        "        # Configuración secuencial (baseline)\n",
        "        tomas_ordenadas = list(range(1, 31))\n",
        "        config_secuencial = [tomas_ordenadas[i:i+6] for i in range(0, 30, 6)]\n",
        "        coste_secuencial = coste(config_secuencial)  # Usar función original\n",
        "        \n",
        "        # Usar algoritmo greedy original completo\n",
        "        config_greedy, coste_greedy = algoritmo_greedy_mejorado()  # Función original\n",
        "        \n",
        "        # Mejora obtenida\n",
        "        mejora = ((coste_secuencial - coste_greedy) / coste_secuencial) * 100\n",
        "        \n",
        "        return coste_secuencial, coste_greedy, mejora\n",
        "    \n",
        "    finally:\n",
        "        # Restaurar datos originales\n",
        "        tomas_actores = tomas_actores_backup\n",
        "\n",
        "# Evaluar datos originales\n",
        "resultado_original = evaluar_dataset(tomas_actores, \"Datos Originales\")\n",
        "\n",
        "# Evaluar datasets aleatorios\n",
        "datasets_aleatorios = [\n",
        "    (\"Pocos actores\", datos_pocos_actores),\n",
        "    (\"Medios actores\", datos_medios_actores),\n",
        "    (\"Muchos actores\", datos_muchos_actores)\n",
        "]\n",
        "\n",
        "resultados = [resultado_original]\n",
        "for nombre, datos in datasets_aleatorios:\n",
        "    resultado = evaluar_dataset(datos, nombre)\n",
        "    resultados.append(resultado)\n",
        "\n",
        "# RESUMEN COMPARATIVO\n",
        "print(f\"{'Dataset':<15} {'Secuencial':<11} {'Greedy':<8} {'Mejora':<8}\")\n",
        "print(\"-\" * 50)\n",
        "\n",
        "nombres = [\"Originales\", \"Pocos\", \"Medios\", \"Muchos\"]\n",
        "for i, (sec, greedy, mejora) in enumerate(resultados):\n",
        "    print(f\"{nombres[i]:<15} {sec:>10d} {greedy:>7d} {mejora:>6.1f}%\")"
      ]
    },
    {
      "cell_type": "markdown",
      "metadata": {
        "id": "eTFWUJQrtGcv"
      },
      "source": [
        "## Enumera las referencias que has utilizado(si ha sido necesario) para llevar a cabo el trabajo"
      ]
    },
    {
      "cell_type": "markdown",
      "metadata": {},
      "source": [
        "\n",
        "https://www.geeksforgeeks.org/dsa/greedy-algorithms/\n",
        "\n",
        "https://github.com/Jeffresh/Greedy-Algorithms\n",
        "\n",
        "https://www.youtube.com/watch?v=TxEhI8ITKNA\n",
        "\n",
        "https://www.youtube.com/watch?v=ENyox7kNKeY\n",
        "\n",
        "**Referencias Académicas**\n",
        "\n",
        "Cormen, T. H., Leiserson, C. E., Rivest, R. L., & Stein, C. (2009). Introduction to Algorithms (3rd ed.). MIT Press.\n",
        "\n",
        "Johnson, D. S. (1973). \"Near-optimal bin packing algorithms.\" Massachusetts Institute of Technology.\n"
      ]
    },
    {
      "cell_type": "markdown",
      "metadata": {
        "id": "kAkDPUyRtYyH"
      },
      "source": [
        "## Describe brevemente las lineas de como crees que es posible avanzar en el estudio del problema. Ten en cuenta incluso posibles variaciones del problema y/o variaciones al alza del tamaño"
      ]
    },
    {
      "cell_type": "markdown",
      "metadata": {},
      "source": [
        "Algunas de las opciones para continuar con el estudio del problema serían: \n",
        "- Comprobar cual es el rendimiento en otro tipo de algoritmos como los algoritmos genéticos, donde se pueden crear múltiples soluciones y combinar las mejores partes.\n",
        "\n",
        "- Hacer el problema más realista con restricciones como: \n",
        "\n",
        "    - Actores no disponibles todos los días.\n",
        "    - Actores con diferentes sueldos.  \n",
        "    - Algunas tomas deben grabarse antes que otras.\n",
        "\n",
        "- Probar con problemas más grandes y probar la escalabilidad, optimización real, etc\n",
        "\n",
        "- Probar el algoritmo en problemas similares.\n"
      ]
    }
  ],
  "metadata": {
    "colab": {
      "provenance": []
    },
    "kernelspec": {
      "display_name": ".venv",
      "language": "python",
      "name": "python3"
    },
    "language_info": {
      "codemirror_mode": {
        "name": "ipython",
        "version": 3
      },
      "file_extension": ".py",
      "mimetype": "text/x-python",
      "name": "python",
      "nbconvert_exporter": "python",
      "pygments_lexer": "ipython3",
      "version": "3.12.3"
    }
  },
  "nbformat": 4,
  "nbformat_minor": 0
}
