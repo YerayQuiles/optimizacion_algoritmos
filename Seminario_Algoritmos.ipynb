{
  "cells": [
    {
      "cell_type": "markdown",
      "metadata": {
        "id": "hVbXYX-RfPWh"
      },
      "source": [
        "# Algoritmos de optimización - Seminario<br>\n",
        "<b>Nombre y Apellidos: </b> Yeray Quiles Ferrández <br>\n",
        "> 1. Organizar sesiones de doblaje <br>\n"
      ]
    },
    {
      "cell_type": "markdown",
      "metadata": {},
      "source": [
        "## Enunciado\n",
        "<b>Descripción del problema: </b><br>\n",
        "Se precisa coordinar el doblaje de una película. Los actores del doblaje deben coincidir en las\n",
        "tomas en las que sus personajes aparecen juntos en las diferentes tomas. Los actores de\n",
        "doblaje cobran todos la misma cantidad por cada día que deben desplazarse hasta el estudio de\n",
        "grabación independientemente del número de tomas que se graben. No es posible grabar más\n",
        "de 6 tomas por día. El objetivo es planificar las sesiones por día de manera que el gasto por los\n",
        "servicios de los actores de doblaje sea el menor posible. Los datos son:\n",
        "- <b>Número de actores: </b> `10`\n",
        "- <b> Número de tomas: </b> `30`\n",
        "- <b>Actores/Tomas:</b> https://docs.google.com/spreadsheets/d/1Ipn6IrbQP4ax8zOnivdBIw2lN0JISkJG4fXndYd27U0/edit?gid=0#gid=0\n",
        "         "
      ]
    },
    {
      "cell_type": "markdown",
      "metadata": {},
      "source": [
        "En la tabla: \n",
        "- `1` indica que el actor participa en la toma\n",
        "- `0` en caso contrario          "
      ]
    },
    {
      "cell_type": "markdown",
      "metadata": {},
      "source": [
        "\n",
        "| Toma | Actor 1 | Actor 2 | Actor 3 | Actor 4 | Actor 5 | Actor 6 | Actor 7 | Actor 8 | Actor 9 | Actor 10 | Total |\n",
        "|------|---------|---------|---------|---------|---------|---------|---------|---------|---------|----------|-------|\n",
        "| 1 | 1 | 1 | 1 | 1 | 1 | 0 | 0 | 0 | 0 | 0 | 5 |\n",
        "| 2 | 0 | 0 | 1 | 1 | 1 | 0 | 0 | 0 | 0 | 0 | 3 |\n",
        "| 3 | 0 | 1 | 0 | 0 | 1 | 0 | 1 | 0 | 0 | 0 | 3 |\n",
        "| 4 | 1 | 1 | 0 | 0 | 0 | 0 | 1 | 1 | 0 | 0 | 4 |\n",
        "| 5 | 0 | 1 | 0 | 1 | 0 | 0 | 0 | 1 | 0 | 0 | 3 |\n",
        "| 6 | 1 | 1 | 0 | 1 | 1 | 0 | 0 | 0 | 0 | 0 | 4 |\n",
        "| 7 | 1 | 1 | 0 | 1 | 1 | 0 | 0 | 0 | 0 | 0 | 4 |\n",
        "| 8 | 1 | 1 | 0 | 0 | 0 | 1 | 0 | 0 | 0 | 0 | 3 |\n",
        "| 9 | 1 | 1 | 0 | 1 | 0 | 0 | 0 | 0 | 0 | 0 | 3 |\n",
        "| 10 | 1 | 1 | 0 | 0 | 0 | 1 | 0 | 0 | 1 | 0 | 4 |\n",
        "| 11 | 1 | 1 | 1 | 0 | 1 | 0 | 0 | 1 | 0 | 0 | 5 |\n",
        "| 12 | 1 | 1 | 1 | 1 | 0 | 1 | 0 | 0 | 0 | 0 | 5 |\n",
        "| 13 | 1 | 0 | 0 | 1 | 1 | 0 | 0 | 0 | 0 | 0 | 3 |\n",
        "| 14 | 1 | 0 | 1 | 0 | 0 | 1 | 0 | 0 | 0 | 0 | 3 |\n",
        "| 15 | 1 | 1 | 0 | 0 | 0 | 0 | 1 | 0 | 0 | 0 | 3 |\n",
        "| 16 | 0 | 0 | 0 | 1 | 0 | 0 | 0 | 0 | 0 | 1 | 2 |\n",
        "| 17 | 1 | 0 | 1 | 0 | 0 | 0 | 0 | 0 | 0 | 0 | 2 |\n",
        "| 18 | 0 | 0 | 1 | 0 | 0 | 1 | 0 | 0 | 0 | 0 | 2 |\n",
        "| 19 | 1 | 0 | 1 | 0 | 0 | 0 | 0 | 0 | 0 | 0 | 2 |\n",
        "| 20 | 1 | 0 | 1 | 1 | 1 | 0 | 0 | 0 | 0 | 0 | 4 |\n",
        "| 21 | 0 | 0 | 0 | 0 | 0 | 1 | 0 | 1 | 0 | 0 | 2 |\n",
        "| 22 | 1 | 1 | 1 | 1 | 0 | 0 | 0 | 0 | 0 | 0 | 4 |\n",
        "| 23 | 1 | 0 | 1 | 0 | 0 | 0 | 0 | 0 | 0 | 0 | 2 |\n",
        "| 24 | 0 | 0 | 1 | 0 | 0 | 1 | 0 | 0 | 0 | 0 | 2 |\n",
        "| 25 | 1 | 1 | 0 | 1 | 0 | 0 | 0 | 0 | 0 | 1 | 4 |\n",
        "| 26 | 1 | 0 | 1 | 0 | 1 | 0 | 0 | 0 | 1 | 0 | 4 |\n",
        "| 27 | 0 | 0 | 0 | 1 | 1 | 0 | 0 | 0 | 0 | 0 | 2 |\n",
        "| 28 | 1 | 0 | 0 | 1 | 0 | 0 | 0 | 0 | 0 | 0 | 2 |\n",
        "| 29 | 1 | 0 | 0 | 0 | 1 | 1 | 0 | 0 | 0 | 0 | 3 |\n",
        "| 30 | 1 | 0 | 0 | 1 | 0 | 0 | 0 | 0 | 0 | 0 | 2 |\n",
        "|------|---------|---------|---------|---------|---------|---------|---------|---------|---------|----------|-------|\n",
        "| **TOTAL** | **22** | **14** | **13** | **15** | **11** | **8** | **3** | **4** | **2** | **2** | **94** |\n"
      ]
    },
    {
      "cell_type": "markdown",
      "metadata": {},
      "source": [
        "## ¿Cuántas posibilidades hay sin tener en cuenta las restricciones?\n",
        "\n",
        "Se busca coordinar el doblaje de una película con 30 tomas y 10 actores. Para calcular el número de posibilidades sin restricciones, es necesario estudiar el orden de las tomas a grabar y la distribución de las sesiones de grabación a lo largo de los días.\n",
        "\n",
        "---\n",
        "\n",
        "### Opción 1: n! (Permutaciones)\n",
        "\n",
        "Si únicamente consideramos el **orden de las tomas**:\n",
        "- Tendríamos n! = 30! permutaciones posibles.\n",
        "- Este enfoque asume que el orden de grabación es lo único relevante para la planificación.\n",
        "- No considera cómo se distribuyen las tomas en múltiples días de grabación.\n",
        "- Sería apropiado únicamente si todas las tomas se grabaran en un solo día consecutivo.\n",
        "\n",
        "**Resultado:** 265,252,859,812,191,058,636,308,480,000,000 posibilidades\n",
        "\n",
        "Esta opción, aunque matemáticamente válida para el cálculo de permutaciones, es insuficiente para modelar el problema real de coordinación de doblaje, donde la distribución temporal en días es un factor esencial de la planificación.\n",
        "\n",
        "### Opción 2: n! × 2^(n-1) (Secuenciación + Distribución)\n",
        "\n",
        "Esta es la opción escogida para el problema de doblaje, considerando:\n",
        "\n",
        "#### Orden de las tomas\n",
        "Si asumimos que el número total de ordenaciones posibles es relevante, entonces se trata de un problema de **permutaciones sin repetición** y el número de posibilidades es **n!**.\n",
        "\n",
        "#### Distribución de las sesiones de grabación\n",
        "- En cada sesión de grabación de un día, se pueden grabar un número distinto de tomas k={1,2,…,n}.\n",
        "- Las grabaciones son únicas, es decir, no pueden repetirse. Por tanto, una vez grabada una toma deberá ser excluida del conjunto de tomas a grabar en las siguientes sesiones.\n",
        "- Sea d∈{0,…,n−1} el número de particiones en que se pueden distribuir las sesiones de grabación de las tomas. Por ejemplo:\n",
        "  - Si se graban todas las tomas en un solo día: **d=0** (sin particiones)\n",
        "  - Si las tomas se graban en dos sesiones: **d=1** (una partición)\n",
        "  - Y así sucesivamente\n",
        "- El número de posibles ordenaciones de la partición d=0 sería C(n-1,0), el de la partición d=1 sería C(n-1,1), y así hasta el último número combinatorio.\n",
        "- Por tanto, el número total de posibles particiones será la suma de todas las posibles distribuciones: **∑(j=0 hasta n-1) C(n-1,j)**\n",
        "\n",
        "#### Número total de posibilidades sin restricción\n",
        "\n",
        "El número total de posibles ordenaciones de las tomas a lo largo de los días se obtiene calculando el **producto** del orden de las tomas por la distribución de las sesiones de grabación, que por **identidad binomial** es:\n",
        "\n",
        "**Núm. posibilidades = n! × ∑(j=0 hasta n-1) C(n-1,j) = n! × 2^(n-1)**\n",
        "\n",
        "### Comparación de Enfoques\n",
        "\n",
        "| Aspecto | n! (Opción 1) | n! × 2^(n-1) (Opción 2) |\n",
        "|---------|---------------|-------------------------|\n",
        "| **Considera orden de tomas** | ✅ Sí | ✅ Sí |\n",
        "| **Considera distribución en días** | ❌ No | ✅ Sí |\n",
        "| **Realismo para doblaje** | ❌ Limitado | ✅ Completo |\n",
        "| **Resultado para n=30** | ~2.65 × 10^32 | ~1.42 × 10^41 |\n",
        "\n",
        "### Resultados\n",
        "\n",
        "| Opción | Fórmula | Resultado |\n",
        "|--------|---------|-----------|\n",
        "| **Opción 1 (descartada)** | n! | 265,252,859,812,191,058,636,308,480,000,000 |\n",
        "| **Opción 2 (correcta)** | n! × 2^(n-1) | 142,406,544,757,979,162,368,320,409,970,933,760,000,000 |\n",
        "\n",
        "La opción correcta considera tanto el orden de grabación como la distribución temporal, siendo 536,870,912 veces mayor que la opción que solo considera el orden.\n",
        "\n",
        "**Respuesta final:** 142,406,544,757,979,162,368,320,409,970,933,760,000,000 posibilidades\n"
      ]
    },
    {
      "cell_type": "code",
      "execution_count": null,
      "metadata": {},
      "outputs": [
        {
          "name": "stdout",
          "output_type": "stream",
          "text": [
            "Opción 1 (descartada): n! = 265,252,859,812,191,058,636,308,480,000,000\n",
            "Opción 2 (correcta): n! × 2^(n-1) = 142,406,544,757,979,162,368,320,409,970,933,760,000,000\n",
            "Factor de diferencia: 536,870,912.0\n"
          ]
        }
      ],
      "source": [
        "import math\n",
        "\n",
        "# Parámetros del problema\n",
        "n = 30\n",
        "\n",
        "# Opción 1: Solo n! (descartada)\n",
        "solo_factorial = math.factorial(n)\n",
        "\n",
        "# Opción 2: n! × 2^(n-1) (correcta)\n",
        "orden_tomas = math.factorial(n)\n",
        "distribucion_dias = 2**(n-1)\n",
        "total_posibilidades = orden_tomas * distribucion_dias\n",
        "\n",
        "# Resultados\n",
        "print(f'Opción 1 (descartada): n! = {solo_factorial:,}')\n",
        "print(f'Opción 2 (correcta): n! × 2^(n-1) = {total_posibilidades:,}')\n",
        "print(f'Factor de diferencia: {total_posibilidades/solo_factorial:,}')"
      ]
    },
    {
      "cell_type": "markdown",
      "metadata": {},
      "source": [
        "## ¿Cuántas posibilidades hay teniendo en cuenta todas las restricciones?\n",
        "\n",
        "Se busca coordinar el doblaje de una película con 30 tomas y 10 actores, con un máximo de 6 tomas por día y el objetivo de minimizar el costo total. Para calcular el número de posibilidades con restricciones, es necesario estudiar el orden de las tomas a grabar y la distribución de las sesiones de grabación a lo largo de los días.\n",
        "\n",
        "---\n",
        "\n",
        "### Opción 1: Combinaciones con orden de días relevante\n",
        "\n",
        "Si consideramos que el orden cronológico de los días es importante:\n",
        "\n",
        "#### Orden de las tomas\n",
        "- Dado que no tenemos restricciones sobre cómo deben ser grabadas las tomas dentro de la sesión de un día, se asume que el orden de grabación de las k tomas dentro de cada día es indiferente.\n",
        "- Sin embargo, el orden de los días sí se considera relevante (Día 1 ≠ Día 2 ≠ Día 3...).\n",
        "\n",
        "#### Distribución de las sesiones de grabación\n",
        "- El mínimo número de sesiones necesarias es **r = ⌈n/k⌉ = ⌈30/6⌉ = 5** días.\n",
        "- Para optimizar costos, asumimos sesiones de **k = 6** tomas cada una.\n",
        "- Las grabaciones son únicas: una vez grabada una toma debe ser excluida del conjunto de tomas disponibles.\n",
        "- Para el día **j+1**, tenemos **C(n-k·j, k)** posibilidades, donde **j ∈ {0,1,2,3,4}**.\n",
        "\n",
        "#### Número total de posibilidades (orden relevante)\n",
        "\n",
        "**Núm. posibilidades = ∏[j=0 hasta 4] C(30-6·j, 6)**\n",
        "\n",
        "**Resultado:** 1,370,874,167,589,326,400 posibilidades\n",
        "\n",
        "Esta opción distingue entre configuraciones idénticas en términos de costo pero diferentes en orden temporal.\n",
        "\n",
        "### Opción 2: Combinaciones con orden de días irrelevante\n",
        "\n",
        "Esta es la opción escogida para el problema de doblaje, considerando:\n",
        "\n",
        "#### Orden de las tomas\n",
        "- El orden de grabación de las k tomas dentro de cada día es indiferente.\n",
        "- El orden de los días tampoco es relevante para el objetivo de minimización de costos.\n",
        "- Grabar el conjunto {1,2,3,4,5,6} el lunes vs. el martes no afecta el costo total.\n",
        "\n",
        "#### Distribución de las sesiones de grabación\n",
        "- Mantenemos la configuración de 5 días con 6 tomas cada uno.\n",
        "- Las configuraciones que solo difieren en el orden de los días se consideran equivalentes.\n",
        "- Por ejemplo: [Día A: {1,2,3,4,5,6}, Día B: {7,8,9,10,11,12}] ≡ [Día A: {7,8,9,10,11,12}, Día B: {1,2,3,4,5,6}]\n",
        "\n",
        "#### Corrección por equivalencia de días\n",
        "\n",
        "Dado que el orden de los días no importa, debemos dividir el resultado de la Opción 1 por el número de permutaciones de los 5 días:\n",
        "\n",
        "**Núm. posibilidades = [∏[j=0 hasta 4] C(30-6·j, 6)] ÷ 5!**\n",
        "\n",
        "### Comparación de Enfoques\n",
        "\n",
        "| Aspecto | Opción 1 (Orden relevante) | Opción 2 (Orden irrelevante) |\n",
        "|---------|----------------------------|-------------------------------|\n",
        "| **Considera restricción k≤6** | ✅ Sí | ✅ Sí |\n",
        "| **Considera objetivo de costos** | ❌ Parcialmente | ✅ Completamente |\n",
        "| **Distingue días equivalentes** | ❌ Sí  | ✅ No  |\n",
        "| **Realismo para doblaje** | ❌ Limitado | ✅ Completo |\n",
        "| **Resultado para n=30, k=6** | ~1.37 × 10¹⁵ | ~1.14 × 10¹³ |\n",
        "\n",
        "\n",
        "### Resultados\n",
        "\n",
        "| Opción | Fórmula | Resultado |\n",
        "|--------|---------|-----------|\n",
        "| **Opción 1** | ∏[j=0 hasta 4] C(30-6·j, 6) | 1,370,874,167,589,326,400 |\n",
        "| **Opción 2** | [∏[j=0 hasta 4] C(30-6·j, 6)] ÷ 5! | 11,423,951,396,577,720 |\n",
        "\n",
        "La opción correcta evita el sobreconteo de configuraciones equivalentes, siendo 120 veces menor que la opción que distingue incorrectamente el orden de días.\n",
        "\n",
        "\n",
        "**Respuesta final:** 11,423,951,396,577,720 posibilidades"
      ]
    },
    {
      "cell_type": "code",
      "execution_count": 1,
      "metadata": {},
      "outputs": [
        {
          "name": "stdout",
          "output_type": "stream",
          "text": [
            "C(30, 6) = 593,775\n",
            "C(24, 6) = 134,596\n",
            "C(18, 6) = 18,564\n",
            "C(12, 6) = 924\n",
            "C(6, 6) = 1\n",
            "Con orden: 1,370,874,167,589,326,400\n",
            "Factorial 5!: 120\n",
            "Sin orden: 11,423,951,396,577,720\n"
          ]
        }
      ],
      "source": [
        "import math\n",
        "\n",
        "n = 30\n",
        "k = 6\n",
        "num_dias = n // k  # = 5 días\n",
        "\n",
        "# Cálculo del producto de combinaciones\n",
        "num_posibilidades_con_orden = 1\n",
        "for j in range(0, num_dias):\n",
        "    combinacion = math.comb(n - k*j, k)\n",
        "    num_posibilidades_con_orden *= combinacion\n",
        "    print(f\"C({n - k*j}, {k}) = {combinacion:,}\")\n",
        "\n",
        "# Corrección por orden irrelevante de días\n",
        "factorial_dias = math.factorial(num_dias)\n",
        "num_posibilidades_sin_orden = num_posibilidades_con_orden // factorial_dias\n",
        "\n",
        "print(f\"Con orden: {num_posibilidades_con_orden:,}\")\n",
        "print(f\"Factorial 5!: {factorial_dias}\")\n",
        "print(f\"Sin orden: {num_posibilidades_sin_orden:,}\")\n"
      ]
    },
    {
      "cell_type": "markdown",
      "metadata": {
        "id": "dzynfVJahHoY"
      },
      "source": [
        "## ¿Cual es la estructura de datos que mejor se adapta al problema?\n",
        "\n",
        "### Primera aproximación para definir la estructura de los datos:\n",
        "\n",
        "**Datos de entrada**\n",
        "\n",
        "Inicialmente se pensó en trabajar con la matriz de datos como un **array bidimensional de numpy** o un **dataframe de pandas** de manera que:\n",
        "* en las filas tuviese como índice el número de toma (1 a 30),\n",
        "* en las columnas tuviese como nombre el número de actor (1 a 10) y  \n",
        "* en cada valor de la matriz el indicador ∈ {1 si en la toma i-ésima participa el actor j-ésimo, 0 en caso contrario}\n",
        "\n",
        "\n",
        "**Datos de salida**\n",
        "\n",
        "La solución se presentaría como una lista de sublistas donde cada sublista estaría formada por un número de tomas (≤6 tomas) para una sesión específica y se presentaría tantas sublistas como sesiones de grabación se considerase. Por ejemplo:\n",
        "\n",
        "`[[1, 2, 3, 4, 5, 6], [7, 8, 9, 10, 11, 12], [13, 14, 15, 16, 17, 18], [19, 20, 21, 22, 23, 24], [25, 26, 27, 28, 29, 30]]`\n",
        "\n",
        "No obstante, al experimentar las primeras dificultades en los diferentes bucles de optimización y analizar el rendimiento de la primera aproximación propuesta, se tomó la decisión de considerar una estructura alternativa.\n",
        "\n",
        "### Problemas identificados con la aproximación inicial:\n",
        "\n",
        "Durante la implementación inicial surgieron varios problemas:\n",
        "\n",
        "1. **Ineficiencia en consultas frecuentes**: La operación más común \"¿qué actores necesito para las tomas {1,5,12,18,23,29}?\" requería iterar por cada toma y cada actor (6×10=60 operaciones), cuando conceptualmente solo necesitaba unir 6 conjuntos pequeños.\n",
        "\n",
        "2. **Desperdicio masivo de memoria**: Del total de 300 posiciones en la matriz (30×10), solo 94 contenían el valor 1, significando que el 68.7% del espacio almacenaba ceros innecesarios.\n",
        "\n",
        "3. **Complejidad en operaciones de conjuntos**: Calcular la unión de actores para múltiples tomas requería bucles anidados y creación manual de conjuntos intermedios, complicando el código y ralentizando las evaluaciones.\n",
        "\n",
        "4. **Escalabilidad limitada**: Para problemas mayores, el desperdicio de memoria crecería proporcionalmente, haciendo inviable la estructura para instancias más grandes.\n",
        "\n",
        "### Estructura final de los datos:\n",
        "\n",
        "**Datos de entrada**\n",
        "\n",
        "En base a la matriz descrita en el apartado anterior se llevó a cabo una transformación para montar una **estructura híbrida de diccionarios con conjuntos** donde:\n",
        "* cada clave es un número de toma (1 a 30) y\n",
        "* cada valor del diccionario es un **conjunto (set)** con los números de actores que participan en esa toma.\n",
        "\n",
        "Por ejemplo:\n",
        "```python\n",
        "{\n",
        "    1: {1, 2, 3, 4, 5},     # Toma 1: actores 1,2,3,4,5\n",
        "    2: {3, 4, 5},           # Toma 2: actores 3,4,5  \n",
        "    3: {2, 5, 7},           # Toma 3: actores 2,5,7\n",
        "    # ... hasta toma 30\n",
        "}\n",
        "```\n",
        "\n",
        "Esta estructura elimina completamente el almacenamiento de ceros y aprovecha las operaciones nativas de conjuntos de Python para uniones eficientes.\n",
        "\n",
        "**Datos de salida**\n",
        "\n",
        "Se mantiene el formato de lista de sublistas para las configuraciones, pero ahora el cálculo del costo asociado es significativamente más eficiente:\n",
        "\n",
        "```python\n",
        "def calcular_costo_configuracion(configuracion):\n",
        "    costo_total = 0\n",
        "    for dia in configuracion:\n",
        "        actores_dia = set()\n",
        "        for toma in dia:\n",
        "            actores_dia.update(tomas_actores[toma])  # Unión eficiente\n",
        "        costo_total += len(actores_dia)\n",
        "    return costo_total\n",
        "```\n",
        "\n",
        "### Ventajas de la estructura final:\n",
        "\n",
        "1. **Memoria optimizada**: Solo almacena las 94 participaciones reales vs 300 posiciones de la matriz.\n",
        "\n",
        "2. **Operaciones más rápidas**: La consulta crítica se reduce de O(k×m) a O(k) operaciones.\n",
        "\n",
        "3. **Código más limpio**: Las operaciones de conjuntos son naturales en Python y eliminan bucles complejos.\n",
        "\n",
        "4. **Escalabilidad natural**: El crecimiento es proporcional a las participaciones reales, no al producto cartesiano teórico.\n",
        "\n",
        "### Limitaciones\n",
        "\n",
        "Debido a la magnitud de los cálculos requeridos para evaluar **11,423,951,396,577,720 configuraciones posibles** y las restricciones computacionales, se introdujeron varias consideraciones:\n",
        "\n",
        "1. **Se asumió que el orden de los días no es relevante** para el objetivo de minimización de costos, dividiendo el espacio de soluciones por 5! para evitar sobreconteo de configuraciones equivalentes.\n",
        "\n",
        "2. **Se estableció uniformidad en el número de tomas por sesión** (k=6) para la configuración óptima, aunque la estructura permite flexibilidad para otras distribuciones.\n",
        "\n",
        "3. **Se priorizó simplicidad sobre optimización extrema**, manteniendo el código legible y mantenible en lugar de implementar estructuras más complejas pero marginalmente más rápidas.\n",
        "\n",
        "\n",
        "La estructura final representa un equilibrio óptimo entre eficiencia computacional, simplicidad implementativa y escalabilidad para el problema específico de coordinación de doblaje planteado."
      ]
    },
    {
      "cell_type": "markdown",
      "metadata": {
        "id": "7Z9U2W7bi-XS"
      },
      "source": [
        "## ¿Cual es la función objetivo?\n"
      ]
    },
    {
      "cell_type": "markdown",
      "metadata": {},
      "source": []
    },
    {
      "cell_type": "markdown",
      "metadata": {},
      "source": [
        "## ¿Es un problema de maximización o minimización?"
      ]
    },
    {
      "cell_type": "code",
      "execution_count": null,
      "metadata": {
        "id": "pDA-rg3Gj5Lz"
      },
      "outputs": [],
      "source": []
    },
    {
      "cell_type": "markdown",
      "metadata": {
        "id": "rlnTYgY1j6I2"
      },
      "source": [
        "## Diseña un algoritmo para resolver el problema por fuerza bruta"
      ]
    },
    {
      "cell_type": "code",
      "execution_count": null,
      "metadata": {
        "id": "CJb5sQ0qkENy"
      },
      "outputs": [],
      "source": []
    },
    {
      "cell_type": "markdown",
      "metadata": {
        "id": "tgrnsC2nkFa8"
      },
      "source": [
        "## Calcula la complejidad del algoritmo por fuerza bruta"
      ]
    },
    {
      "cell_type": "code",
      "execution_count": null,
      "metadata": {
        "id": "rvZWwL-ckRST"
      },
      "outputs": [],
      "source": []
    },
    {
      "cell_type": "markdown",
      "metadata": {
        "id": "txbrmLmskReM"
      },
      "source": [
        "## Diseña un algoritmo que mejore la complejidad del algortimo por fuerza bruta. Argumenta porque crees que mejora el algoritmo por fuerza bruta"
      ]
    },
    {
      "cell_type": "code",
      "execution_count": null,
      "metadata": {
        "id": "m1eyM21Vkabg"
      },
      "outputs": [],
      "source": []
    },
    {
      "cell_type": "markdown",
      "metadata": {
        "id": "eGDB4K6uk1iN"
      },
      "source": [
        "## Calcula la complejidad del algoritmo"
      ]
    },
    {
      "cell_type": "code",
      "execution_count": null,
      "metadata": {
        "id": "nREzhkStlCq8"
      },
      "outputs": [],
      "source": []
    },
    {
      "cell_type": "markdown",
      "metadata": {
        "id": "3M6QjTsSkmYe"
      },
      "source": [
        "## Según el problema (y tenga sentido), diseña un juego de datos de entrada aleatorios"
      ]
    },
    {
      "cell_type": "code",
      "execution_count": null,
      "metadata": {
        "id": "sJ-N2etjkyWc"
      },
      "outputs": [],
      "source": []
    },
    {
      "cell_type": "markdown",
      "metadata": {
        "id": "zy5ZROmjlGo1"
      },
      "source": [
        "## Aplica el algoritmo al juego de datos generado"
      ]
    },
    {
      "cell_type": "code",
      "execution_count": null,
      "metadata": {
        "id": "Jkx8GeiYlUz1"
      },
      "outputs": [],
      "source": []
    },
    {
      "cell_type": "markdown",
      "metadata": {
        "id": "eTFWUJQrtGcv"
      },
      "source": [
        "## Enumera las referencias que has utilizado(si ha sido necesario) para llevar a cabo el trabajo"
      ]
    },
    {
      "cell_type": "code",
      "execution_count": null,
      "metadata": {},
      "outputs": [],
      "source": []
    },
    {
      "cell_type": "markdown",
      "metadata": {
        "id": "kAkDPUyRtYyH"
      },
      "source": [
        "## Describe brevemente las lineas de como crees que es posible avanzar en el estudio del problema. Ten en cuenta incluso posibles variaciones del problema y/o variaciones al alza del tamaño"
      ]
    },
    {
      "cell_type": "markdown",
      "metadata": {},
      "source": []
    }
  ],
  "metadata": {
    "colab": {
      "provenance": []
    },
    "kernelspec": {
      "display_name": ".venv",
      "language": "python",
      "name": "python3"
    },
    "language_info": {
      "codemirror_mode": {
        "name": "ipython",
        "version": 3
      },
      "file_extension": ".py",
      "mimetype": "text/x-python",
      "name": "python",
      "nbconvert_exporter": "python",
      "pygments_lexer": "ipython3",
      "version": "3.12.3"
    }
  },
  "nbformat": 4,
  "nbformat_minor": 0
}
